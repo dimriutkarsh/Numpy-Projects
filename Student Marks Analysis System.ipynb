{
 "cells": [
  {
   "cell_type": "code",
   "execution_count": 1,
   "id": "a256758c-764f-4ddc-bbc5-0a05b5bb53dd",
   "metadata": {},
   "outputs": [],
   "source": [
    "import numpy as np"
   ]
  },
  {
   "cell_type": "code",
   "execution_count": 2,
   "id": "11e797c6-6768-463f-b5c1-8781ecf78d38",
   "metadata": {
    "scrolled": true
   },
   "outputs": [
    {
     "name": "stdout",
     "output_type": "stream",
     "text": [
      "marks:\n",
      " [[99 85 27 52 60]\n",
      " [56 85 94  3 57]\n",
      " [80 79 14 42  3]\n",
      " [46 18 37 31 80]\n",
      " [47 24 79 31 50]\n",
      " [77 53 50 40 71]\n",
      " [69 28 73  1 19]\n",
      " [67 98 11 54  2]\n",
      " [34 74 56 79 56]\n",
      " [54  2 92 15 49]\n",
      " [56 34 53 92 57]\n",
      " [19 64 29 84 96]\n",
      " [47  8 14  2 30]\n",
      " [48 93 12 24  5]\n",
      " [21 51 15 37  6]\n",
      " [34 98 46 85 37]\n",
      " [42 78 60 24 32]\n",
      " [21 19  2 58 85]\n",
      " [43  8 46 97 75]\n",
      " [99 50 34 17 82]\n",
      " [25 43 31 68 87]\n",
      " [ 6 10 13 19 54]\n",
      " [98 26 71  0  2]\n",
      " [95 14 81 86 20]\n",
      " [ 7  3 80 29 77]\n",
      " [26 24 42 21 48]\n",
      " [75 77 16 53 94]\n",
      " [40 56 52 25 25]\n",
      " [15 41 96 73 11]\n",
      " [33 36 13  2 36]\n",
      " [50  4 33 74 64]\n",
      " [96 31 88 41 10]\n",
      " [44 79  8 98 73]\n",
      " [76  9 21 92 72]\n",
      " [39 85 25 21 33]\n",
      " [30 84 57 84 87]\n",
      " [95 84 74 43 35]\n",
      " [13 24 17 46 46]\n",
      " [85 20 11 52 84]\n",
      " [31  9 60 17 50]\n",
      " [98 97 59 90 27]\n",
      " [14 72 39 31 82]\n",
      " [96  1 49 31 23]\n",
      " [ 6 17 26  7 44]\n",
      " [26 88 47 53 50]\n",
      " [30 49 56 74 90]\n",
      " [91 98 19 18 26]\n",
      " [59 34  3 87  8]\n",
      " [63  9 14 77 59]\n",
      " [49 70 23 92 85]]\n"
     ]
    }
   ],
   "source": [
    "marks = np.random.randint(0,101, size=(50,5))\n",
    "print(\"marks:\\n\",marks)"
   ]
  },
  {
   "cell_type": "code",
   "execution_count": 3,
   "id": "f24eb6e6-c935-44fd-9bab-2ee59d332b09",
   "metadata": {},
   "outputs": [
    {
     "name": "stdout",
     "output_type": "stream",
     "text": [
      "AVERAGE MARKS OF EACH STUDENT IS: [51.4  46.86 41.36 47.44 49.08]\n"
     ]
    }
   ],
   "source": [
    "avg_per_subject= np.mean(marks,axis=0)\n",
    "print(\"AVERAGE MARKS OF EACH STUDENT IS:\",avg_per_subject)"
   ]
  },
  {
   "cell_type": "code",
   "execution_count": 4,
   "id": "6a23272b-5277-488a-96e9-a8bd50ba4527",
   "metadata": {},
   "outputs": [
    {
     "name": "stdout",
     "output_type": "stream",
     "text": [
      "Highest marks per subject: [99 98 96 98 96]\n",
      "Lowest marks per subject: [6 1 2 0 2]\n"
     ]
    }
   ],
   "source": [
    "highest= np.max(marks,axis=0)\n",
    "lowest= np.min(marks,axis=0)\n",
    "print(\"Highest marks per subject:\", highest)\n",
    "print(\"Lowest marks per subject:\", lowest)"
   ]
  },
  {
   "cell_type": "code",
   "execution_count": 8,
   "id": "61514381-0ce1-4ecf-875b-b6e461c4c575",
   "metadata": {
    "scrolled": true
   },
   "outputs": [
    {
     "name": "stdout",
     "output_type": "stream",
     "text": [
      "Students scoring above average: [0 1 2 3 4]\n"
     ]
    }
   ],
   "source": [
    "total_marks = np.sum(marks,axis=0)\n",
    "avg_total= np.mean(marks,axis=0)\n",
    "above_avg_students = np.where(total_marks > avg_total)\n",
    "print(\"Students scoring above average:\", above_avg_students[0])"
   ]
  },
  {
   "cell_type": "code",
   "execution_count": 9,
   "id": "c1d79536-e66c-4534-a91f-ee5195735000",
   "metadata": {},
   "outputs": [
    {
     "name": "stdout",
     "output_type": "stream",
     "text": [
      "Topper in Subject 1: Student 0\n",
      "None\n",
      "Topper in Subject 2: Student 7\n",
      "None\n",
      "Topper in Subject 3: Student 28\n",
      "None\n",
      "Topper in Subject 4: Student 32\n",
      "None\n",
      "Topper in Subject 5: Student 11\n",
      "None\n"
     ]
    }
   ],
   "source": [
    "toppers= np.argmax(marks,axis=0)\n",
    "for i in range(5):\n",
    "    print(   print(f\"Topper in Subject {i+1}: Student {toppers[i]}\"))"
   ]
  },
  {
   "cell_type": "code",
   "execution_count": null,
   "id": "8b94edca-000c-4ab4-919a-5eb451683248",
   "metadata": {},
   "outputs": [],
   "source": []
  }
 ],
 "metadata": {
  "kernelspec": {
   "display_name": "Python 3 (ipykernel)",
   "language": "python",
   "name": "python3"
  },
  "language_info": {
   "codemirror_mode": {
    "name": "ipython",
    "version": 3
   },
   "file_extension": ".py",
   "mimetype": "text/x-python",
   "name": "python",
   "nbconvert_exporter": "python",
   "pygments_lexer": "ipython3",
   "version": "3.13.5"
  }
 },
 "nbformat": 4,
 "nbformat_minor": 5
}
