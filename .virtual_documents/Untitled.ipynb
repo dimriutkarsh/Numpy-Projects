import numpy as np


A= np.random.randint(1,10,size=(3,3))
B= np.random.randint(1,10,size=(3,3))

print("Matrix A:\n", A)
print("Matrix B:\n", B)


# Addition
print("A + B:\n", np.add(A, B))

# Subtraction
print("A - B:\n", np.subtract(A, B))

# Multiplication
print("A × B:\n", np.dot(A, B))

# Transpose of A
print("Transpose of A:\n", np.transpose(A))


det_A = np.linalg.det(A)
print("Determinant of A:", det_A)

# Inverse of A (if determinant not zero)
if det_A != 0:
    print("Inverse of A:\n", np.linalg.inv(A))
else:
    print("A is singular, no inverse.")



