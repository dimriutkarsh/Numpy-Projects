{
 "cells": [
  {
   "cell_type": "code",
   "execution_count": 1,
   "id": "d7945570-4950-47aa-ae07-265a2e7bb046",
   "metadata": {},
   "outputs": [],
   "source": [
    "import numpy as np"
   ]
  },
  {
   "cell_type": "code",
   "execution_count": 2,
   "id": "33fe2b9e-e756-419b-a164-5f91ec04ffc6",
   "metadata": {},
   "outputs": [],
   "source": [
    "dice_num= np.random.randint(1,7,1000)"
   ]
  },
  {
   "cell_type": "code",
   "execution_count": 7,
   "id": "ba6d4af5-7832-4bcf-bd71-b458ddbc06b0",
   "metadata": {},
   "outputs": [
    {
     "name": "stdout",
     "output_type": "stream",
     "text": [
      "Frequency of 1-6:\n",
      " [168 149 175 178 159 171]\n"
     ]
    }
   ],
   "source": [
    "freq= np.bincount(dice_num)[1:]\n",
    "print(\"Frequency of 1-6:\\n\", freq)"
   ]
  },
  {
   "cell_type": "code",
   "execution_count": 9,
   "id": "91420f6a-afbb-4035-980b-ff654a9ca91e",
   "metadata": {},
   "outputs": [
    {
     "name": "stdout",
     "output_type": "stream",
     "text": [
      "Probability of rolling >4: 0.033\n"
     ]
    }
   ],
   "source": [
    "count_above_4 = np.sum(dice_num > 4)\n",
    "probability = count_above_4 / 10000\n",
    "print(\"Probability of rolling >4:\", probability)"
   ]
  },
  {
   "cell_type": "code",
   "execution_count": null,
   "id": "3078d396-482f-4280-b3d7-d03c7e76b9cb",
   "metadata": {},
   "outputs": [],
   "source": []
  }
 ],
 "metadata": {
  "kernelspec": {
   "display_name": "Python 3 (ipykernel)",
   "language": "python",
   "name": "python3"
  },
  "language_info": {
   "codemirror_mode": {
    "name": "ipython",
    "version": 3
   },
   "file_extension": ".py",
   "mimetype": "text/x-python",
   "name": "python",
   "nbconvert_exporter": "python",
   "pygments_lexer": "ipython3",
   "version": "3.13.5"
  }
 },
 "nbformat": 4,
 "nbformat_minor": 5
}
