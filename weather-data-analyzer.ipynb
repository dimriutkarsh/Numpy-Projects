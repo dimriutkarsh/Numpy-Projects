{
 "cells": [
  {
   "cell_type": "code",
   "execution_count": 1,
   "id": "067bc364-da52-49b0-b80b-182bab9466fa",
   "metadata": {},
   "outputs": [],
   "source": [
    "import numpy as np"
   ]
  },
  {
   "cell_type": "code",
   "execution_count": 2,
   "id": "cd6d331a-1065-4577-8c76-a53dcd3ff6a8",
   "metadata": {},
   "outputs": [],
   "source": [
    "temps= np.random.randint(10,45,365)"
   ]
  },
  {
   "cell_type": "code",
   "execution_count": 3,
   "id": "3fdfd59a-861f-423c-a7d6-cc6b7ee1e4ed",
   "metadata": {},
   "outputs": [
    {
     "name": "stdout",
     "output_type": "stream",
     "text": [
      "Hottest day: 108 Temperature: 44\n",
      "Coldest day: 55 Temperature: 10\n"
     ]
    }
   ],
   "source": [
    "hottest_day= np.argmax(temps)+1\n",
    "coldest_day=np.argmin(temps)+1\n",
    "print(\"Hottest day:\", hottest_day, \"Temperature:\", temps[hottest_day-1])\n",
    "print(\"Coldest day:\", coldest_day, \"Temperature:\", temps[coldest_day-1])"
   ]
  },
  {
   "cell_type": "code",
   "execution_count": 5,
   "id": "56fd0d91-530a-44d0-8449-fe476ce8096b",
   "metadata": {},
   "outputs": [
    {
     "name": "stdout",
     "output_type": "stream",
     "text": [
      "[27.63333333 26.1        24.9        25.9        30.66666667 25.8\n",
      " 27.06666667 26.36666667 23.83333333 24.1        27.7        26.6       ]\n"
     ]
    }
   ],
   "source": [
    "monthly_avg= temps[:360].reshape(12,30).mean(axis=1)\n",
    "print(monthly_avg)\n"
   ]
  },
  {
   "cell_type": "code",
   "execution_count": 6,
   "id": "01acc7bd-5b82-4103-b382-47aeccd0f592",
   "metadata": {},
   "outputs": [
    {
     "name": "stdout",
     "output_type": "stream",
     "text": [
      "Heatwave Days: [  2  12  14  19  26  30  35  36  42  46  48  51  57  60  63  66  73  76\n",
      "  86  89 104 106 108 112 121 125 128 130 131 133 134 136 137 142 145 147\n",
      " 148 163 166 171 175 179 182 193 195 196 198 221 227 232 235 237 240 241\n",
      " 245 250 251 281 282 288 289 300 302 303 313 314 321 327 332 335 339 343\n",
      " 351 352 353 355 364]\n"
     ]
    }
   ],
   "source": [
    "heatwave_days = np.where(temps > 35)\n",
    "print(\"Heatwave Days:\", heatwave_days[0]+1)"
   ]
  },
  {
   "cell_type": "code",
   "execution_count": null,
   "id": "ddf15a5d-9fd4-4503-894f-17ed2215a9f7",
   "metadata": {},
   "outputs": [],
   "source": []
  }
 ],
 "metadata": {
  "kernelspec": {
   "display_name": "Python 3 (ipykernel)",
   "language": "python",
   "name": "python3"
  },
  "language_info": {
   "codemirror_mode": {
    "name": "ipython",
    "version": 3
   },
   "file_extension": ".py",
   "mimetype": "text/x-python",
   "name": "python",
   "nbconvert_exporter": "python",
   "pygments_lexer": "ipython3",
   "version": "3.13.5"
  }
 },
 "nbformat": 4,
 "nbformat_minor": 5
}
