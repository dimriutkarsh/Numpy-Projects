{
 "cells": [
  {
   "cell_type": "code",
   "execution_count": 1,
   "id": "8a1b2553-fd7d-4d90-b746-2dd95eba661c",
   "metadata": {},
   "outputs": [],
   "source": [
    "import numpy as np"
   ]
  },
  {
   "cell_type": "code",
   "execution_count": 3,
   "id": "cbdcb800-2e5f-4988-a939-ee318f790e0f",
   "metadata": {},
   "outputs": [
    {
     "name": "stdout",
     "output_type": "stream",
     "text": [
      "Matrix A:\n",
      " [[5 9 8]\n",
      " [7 3 7]\n",
      " [7 5 7]]\n",
      "Matrix B:\n",
      " [[1 7 2]\n",
      " [7 8 9]\n",
      " [4 7 7]]\n"
     ]
    }
   ],
   "source": [
    "A= np.random.randint(1,10,size=(3,3))\n",
    "B= np.random.randint(1,10,size=(3,3))\n",
    "\n",
    "print(\"Matrix A:\\n\", A)\n",
    "print(\"Matrix B:\\n\", B)"
   ]
  },
  {
   "cell_type": "code",
   "execution_count": 4,
   "id": "18bbd435-ca8a-494b-9edd-55d0a853203d",
   "metadata": {},
   "outputs": [
    {
     "name": "stdout",
     "output_type": "stream",
     "text": [
      "A + B:\n",
      " [[ 6 16 10]\n",
      " [14 11 16]\n",
      " [11 12 14]]\n",
      "A - B:\n",
      " [[ 4  2  6]\n",
      " [ 0 -5 -2]\n",
      " [ 3 -2  0]]\n",
      "A × B:\n",
      " [[100 163 147]\n",
      " [ 56 122  90]\n",
      " [ 70 138 108]]\n",
      "Transpose of A:\n",
      " [[5 7 7]\n",
      " [9 3 5]\n",
      " [8 7 7]]\n"
     ]
    }
   ],
   "source": [
    "# Addition\n",
    "print(\"A + B:\\n\", np.add(A, B))\n",
    "\n",
    "# Subtraction\n",
    "print(\"A - B:\\n\", np.subtract(A, B))\n",
    "\n",
    "# Multiplication\n",
    "print(\"A × B:\\n\", np.dot(A, B))\n",
    "\n",
    "# Transpose of A\n",
    "print(\"Transpose of A:\\n\", np.transpose(A))"
   ]
  },
  {
   "cell_type": "code",
   "execution_count": null,
   "id": "a43a1755-5c35-4608-9fff-5e2f46a5b8ee",
   "metadata": {},
   "outputs": [],
   "source": [
    "det_A= np."
   ]
  }
 ],
 "metadata": {
  "kernelspec": {
   "display_name": "Python 3 (ipykernel)",
   "language": "python",
   "name": "python3"
  },
  "language_info": {
   "codemirror_mode": {
    "name": "ipython",
    "version": 3
   },
   "file_extension": ".py",
   "mimetype": "text/x-python",
   "name": "python",
   "nbconvert_exporter": "python",
   "pygments_lexer": "ipython3",
   "version": "3.13.5"
  }
 },
 "nbformat": 4,
 "nbformat_minor": 5
}
